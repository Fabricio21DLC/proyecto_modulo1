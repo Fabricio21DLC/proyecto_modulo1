{
 "cells": [
  {
   "cell_type": "markdown",
   "metadata": {},
   "source": [
    "<img style=\"float: right; margin: 0px 0px 15px 15px;\" src=\"http://conceptodefinicion.de/wp-content/uploads/2015/07/crecimiento-poblacional-2.jpg\" width=\"300px\" height=\"200px\" />\n",
    "\n",
    "# Tïtulo : Población Mundial"
   ]
  },
  {
   "cell_type": "markdown",
   "metadata": {},
   "source": [
    "## Objetivos"
   ]
  },
  {
   "cell_type": "markdown",
   "metadata": {},
   "source": [
    ">### Generales \n",
    " · La finalidad de nuestro proyecto es conocer el incremento o en su defecto el   decrecimiento   poblacional mundial a traves de los años y de esta manera poder predecir el creciemiento para   el año 2017.\n",
    " >### Específicos\n",
    " · Con la ayuda de los datos obtenidos en world bank sobre la población registrada en cada país   conforme al tiempo realizaremos el ajuste de curvas necesario para conocer su gráfica y de esta misma manera predecir el incremento poblacional en el año 2017.\n",
    " \n",
    ">Referencia:https://ourworldindata.org/world-population-growth\n",
    ">### Modelo que representa el problema."
   ]
  },
  {
   "cell_type": "markdown",
   "metadata": {},
   "source": []
  },
  {
   "cell_type": "code",
   "execution_count": null,
   "metadata": {},
   "outputs": [],
   "source": []
  }
 ],
 "metadata": {
  "kernelspec": {
   "display_name": "Python 3",
   "language": "python",
   "name": "python3"
  },
  "language_info": {
   "codemirror_mode": {
    "name": "ipython",
    "version": 3
   },
   "file_extension": ".py",
   "mimetype": "text/x-python",
   "name": "python",
   "nbconvert_exporter": "python",
   "pygments_lexer": "ipython3",
   "version": "3.6.4"
  }
 },
 "nbformat": 4,
 "nbformat_minor": 2
}
